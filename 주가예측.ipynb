{
  "nbformat": 4,
  "nbformat_minor": 0,
  "metadata": {
    "colab": {
      "name": "주가예측4.ipynb",
      "provenance": [],
      "collapsed_sections": [],
      "mount_file_id": "1NpESB15mjoO_eieYqx18gITu7T3_6uQ7",
      "authorship_tag": "ABX9TyMMIui+7u1SIIlcRp08fM4Y",
      "include_colab_link": true
    },
    "kernelspec": {
      "display_name": "Python 3",
      "name": "python3"
    },
    "language_info": {
      "name": "python"
    }
  },
  "cells": [
    {
      "cell_type": "markdown",
      "metadata": {
        "id": "view-in-github",
        "colab_type": "text"
      },
      "source": [
        "<a href=\"https://colab.research.google.com/github/kimhalyn/RNN-LSTM/blob/main/%EC%A3%BC%EA%B0%80%EC%98%88%EC%B8%A1.ipynb\" target=\"_parent\"><img src=\"https://colab.research.google.com/assets/colab-badge.svg\" alt=\"Open In Colab\"/></a>"
      ]
    },
    {
      "cell_type": "code",
      "metadata": {
        "id": "O_mxggZHTcwi"
      },
      "source": [
        "import pandas as pd\n",
        "import numpy as np\n",
        "import matplotlib.pyplot as plt\n",
        "import seaborn as sns\n",
        "import warnings\n",
        "import os\n",
        "import tensorflow as tf\n",
        "from tensorflow.keras.models import Sequential\n",
        "from tensorflow.keras.layers import Dense, LSTM, Conv1D, Lambda\n",
        "from tensorflow.keras.losses import Huber\n",
        "from tensorflow.keras.optimizers import Adam\n",
        "from tensorflow.keras.callbacks import EarlyStopping, ModelCheckpoint"
      ],
      "execution_count": null,
      "outputs": []
    },
    {
      "cell_type": "code",
      "metadata": {
        "colab": {
          "base_uri": "https://localhost:8080/",
          "height": 205
        },
        "id": "40n03FBuUPSi",
        "outputId": "796cbdc9-360e-464d-c0b9-4e7b779776f3"
      },
      "source": [
        "# 파일 불러오기\n",
        "price = pd.read_excel('/content/drive/MyDrive/삼성주가.xlsx', sheet_name='samsung')\n",
        "price.head()"
      ],
      "execution_count": null,
      "outputs": [
        {
          "output_type": "execute_result",
          "data": {
            "text/html": [
              "<div>\n",
              "<style scoped>\n",
              "    .dataframe tbody tr th:only-of-type {\n",
              "        vertical-align: middle;\n",
              "    }\n",
              "\n",
              "    .dataframe tbody tr th {\n",
              "        vertical-align: top;\n",
              "    }\n",
              "\n",
              "    .dataframe thead th {\n",
              "        text-align: right;\n",
              "    }\n",
              "</style>\n",
              "<table border=\"1\" class=\"dataframe\">\n",
              "  <thead>\n",
              "    <tr style=\"text-align: right;\">\n",
              "      <th></th>\n",
              "      <th>일자</th>\n",
              "      <th>시가</th>\n",
              "      <th>고가</th>\n",
              "      <th>저가</th>\n",
              "      <th>종가</th>\n",
              "      <th>거래량</th>\n",
              "    </tr>\n",
              "  </thead>\n",
              "  <tbody>\n",
              "    <tr>\n",
              "      <th>0</th>\n",
              "      <td>20200107</td>\n",
              "      <td>55700</td>\n",
              "      <td>56400</td>\n",
              "      <td>55600</td>\n",
              "      <td>55800</td>\n",
              "      <td>9893846</td>\n",
              "    </tr>\n",
              "    <tr>\n",
              "      <th>1</th>\n",
              "      <td>20200106</td>\n",
              "      <td>54900</td>\n",
              "      <td>55600</td>\n",
              "      <td>54600</td>\n",
              "      <td>55500</td>\n",
              "      <td>10278951</td>\n",
              "    </tr>\n",
              "    <tr>\n",
              "      <th>2</th>\n",
              "      <td>20200103</td>\n",
              "      <td>56000</td>\n",
              "      <td>56600</td>\n",
              "      <td>54900</td>\n",
              "      <td>55500</td>\n",
              "      <td>15422255</td>\n",
              "    </tr>\n",
              "    <tr>\n",
              "      <th>3</th>\n",
              "      <td>20200102</td>\n",
              "      <td>55500</td>\n",
              "      <td>56000</td>\n",
              "      <td>55000</td>\n",
              "      <td>55200</td>\n",
              "      <td>12993228</td>\n",
              "    </tr>\n",
              "    <tr>\n",
              "      <th>4</th>\n",
              "      <td>20191230</td>\n",
              "      <td>56200</td>\n",
              "      <td>56600</td>\n",
              "      <td>55700</td>\n",
              "      <td>55800</td>\n",
              "      <td>8356767</td>\n",
              "    </tr>\n",
              "  </tbody>\n",
              "</table>\n",
              "</div>"
            ],
            "text/plain": [
              "         일자     시가     고가     저가     종가       거래량\n",
              "0  20200107  55700  56400  55600  55800   9893846\n",
              "1  20200106  54900  55600  54600  55500  10278951\n",
              "2  20200103  56000  56600  54900  55500  15422255\n",
              "3  20200102  55500  56000  55000  55200  12993228\n",
              "4  20191230  56200  56600  55700  55800   8356767"
            ]
          },
          "metadata": {},
          "execution_count": 50
        }
      ]
    },
    {
      "cell_type": "code",
      "metadata": {
        "colab": {
          "base_uri": "https://localhost:8080/",
          "height": 205
        },
        "id": "8ZxuSChoUT-m",
        "outputId": "ed2cc4f6-52fd-43d4-ed71-0839f2cabab1"
      },
      "source": [
        "# 날짜 포맷으로 변환\n",
        "price['일자'] = pd.to_datetime(price['일자'], format='%Y%m%d')\n",
        "price.head()"
      ],
      "execution_count": null,
      "outputs": [
        {
          "output_type": "execute_result",
          "data": {
            "text/html": [
              "<div>\n",
              "<style scoped>\n",
              "    .dataframe tbody tr th:only-of-type {\n",
              "        vertical-align: middle;\n",
              "    }\n",
              "\n",
              "    .dataframe tbody tr th {\n",
              "        vertical-align: top;\n",
              "    }\n",
              "\n",
              "    .dataframe thead th {\n",
              "        text-align: right;\n",
              "    }\n",
              "</style>\n",
              "<table border=\"1\" class=\"dataframe\">\n",
              "  <thead>\n",
              "    <tr style=\"text-align: right;\">\n",
              "      <th></th>\n",
              "      <th>일자</th>\n",
              "      <th>시가</th>\n",
              "      <th>고가</th>\n",
              "      <th>저가</th>\n",
              "      <th>종가</th>\n",
              "      <th>거래량</th>\n",
              "    </tr>\n",
              "  </thead>\n",
              "  <tbody>\n",
              "    <tr>\n",
              "      <th>0</th>\n",
              "      <td>2020-01-07</td>\n",
              "      <td>55700</td>\n",
              "      <td>56400</td>\n",
              "      <td>55600</td>\n",
              "      <td>55800</td>\n",
              "      <td>9893846</td>\n",
              "    </tr>\n",
              "    <tr>\n",
              "      <th>1</th>\n",
              "      <td>2020-01-06</td>\n",
              "      <td>54900</td>\n",
              "      <td>55600</td>\n",
              "      <td>54600</td>\n",
              "      <td>55500</td>\n",
              "      <td>10278951</td>\n",
              "    </tr>\n",
              "    <tr>\n",
              "      <th>2</th>\n",
              "      <td>2020-01-03</td>\n",
              "      <td>56000</td>\n",
              "      <td>56600</td>\n",
              "      <td>54900</td>\n",
              "      <td>55500</td>\n",
              "      <td>15422255</td>\n",
              "    </tr>\n",
              "    <tr>\n",
              "      <th>3</th>\n",
              "      <td>2020-01-02</td>\n",
              "      <td>55500</td>\n",
              "      <td>56000</td>\n",
              "      <td>55000</td>\n",
              "      <td>55200</td>\n",
              "      <td>12993228</td>\n",
              "    </tr>\n",
              "    <tr>\n",
              "      <th>4</th>\n",
              "      <td>2019-12-30</td>\n",
              "      <td>56200</td>\n",
              "      <td>56600</td>\n",
              "      <td>55700</td>\n",
              "      <td>55800</td>\n",
              "      <td>8356767</td>\n",
              "    </tr>\n",
              "  </tbody>\n",
              "</table>\n",
              "</div>"
            ],
            "text/plain": [
              "          일자     시가     고가     저가     종가       거래량\n",
              "0 2020-01-07  55700  56400  55600  55800   9893846\n",
              "1 2020-01-06  54900  55600  54600  55500  10278951\n",
              "2 2020-01-03  56000  56600  54900  55500  15422255\n",
              "3 2020-01-02  55500  56000  55000  55200  12993228\n",
              "4 2019-12-30  56200  56600  55700  55800   8356767"
            ]
          },
          "metadata": {},
          "execution_count": 51
        }
      ]
    },
    {
      "cell_type": "code",
      "metadata": {
        "colab": {
          "base_uri": "https://localhost:8080/",
          "height": 495
        },
        "id": "WYCwIEfdcW9g",
        "outputId": "165c747e-679d-4ba9-af89-a15c1af73f7d"
      },
      "source": [
        "# 주식 시각화\n",
        "plt.figure(figsize=(16, 9))\n",
        "sns.lineplot(y=price['종가'], x=price['일자'])\n",
        "plt.xlabel('time')\n",
        "plt.ylabel('price')"
      ],
      "execution_count": null,
      "outputs": [
        {
          "output_type": "execute_result",
          "data": {
            "text/plain": [
              "Text(0, 0.5, 'price')"
            ]
          },
          "metadata": {},
          "execution_count": 52
        },
        {
          "output_type": "display_data",
          "data": {
            "image/png": "[encoded data removed]",
            "text/plain": [
              "<Figure size 1152x648 with 1 Axes>"
            ]
          },
          "metadata": {
            "needs_background": "light"
          }
        }
      ]
    },
    {
      "cell_type": "code",
      "metadata": {
        "colab": {
          "base_uri": "https://localhost:8080/"
        },
        "id": "lvBfnGFeYNIG",
        "outputId": "419481c0-2e36-43a1-e9be-f4c5e23bd327"
      },
      "source": [
        "# 정규화(MinMaxScaler를 활용하여 전체 데이터 0~1값을 갖도록 해줌)\n",
        "from sklearn.preprocessing import MinMaxScaler\n",
        "\n",
        "scaler = MinMaxScaler()\n",
        "\n",
        "# 스케일 적용할 columns 정의\n",
        "scale_cols = ['시가', '고가', '저가', '종가', '거래량']\n",
        "\n",
        "# 스케일 후 columns\n",
        "scaled = scaler.fit_transform(price[scale_cols])\n",
        "scaled"
      ],
      "execution_count": null,
      "outputs": [
        {
          "output_type": "execute_result",
          "data": {
            "text/plain": [
              "array([[9.68632371e-01, 9.80489165e-01, 9.79521582e-01, 9.75133091e-01,\n",
              "        3.02914256e-02],\n",
              "       [9.54691203e-01, 9.66552853e-01, 9.61867773e-01, 9.69879518e-01,\n",
              "        3.14704796e-02],\n",
              "       [9.73860309e-01, 9.83973242e-01, 9.67163916e-01, 9.69879518e-01,\n",
              "        4.72174410e-02],\n",
              "       ...,\n",
              "       [2.26543984e-04, 2.43885444e-04, 2.29499515e-04, 2.27654805e-04,\n",
              "        2.36326702e-03],\n",
              "       [2.26543984e-04, 2.26465055e-04, 2.29499515e-04, 2.10142897e-04,\n",
              "        3.32176032e-04],\n",
              "       [2.43970445e-04, 2.43885444e-04, 2.47153323e-04, 2.27654805e-04,\n",
              "        3.42181482e-04]])"
            ]
          },
          "metadata": {},
          "execution_count": 53
        }
      ]
    },
    {
      "cell_type": "code",
      "metadata": {
        "id": "U0L4KLkFrQnH"
      },
      "source": [
        "# 스케일이 완료된 columns로 새로운 데이터프레임 생성\n",
        "df = pd.DataFrame(scaled, columns=scale_cols)"
      ],
      "execution_count": null,
      "outputs": []
    },
    {
      "cell_type": "code",
      "metadata": {
        "id": "Zi1vQ0xlrr3Y"
      },
      "source": [
        "# train, test 분할\n",
        "from sklearn.model_selection import train_test_split\n",
        "x_train, x_test, y_train, y_test = train_test_split(df.drop('종가', 1), \n",
        "                                                    df['종가'], \n",
        "                                                    test_size=0.2, \n",
        "                                                    random_state=0, \n",
        "                                                    shuffle=False)"
      ],
      "execution_count": null,
      "outputs": []
    },
    {
      "cell_type": "code",
      "metadata": {
        "colab": {
          "base_uri": "https://localhost:8080/"
        },
        "id": "l6hHezaOsChl",
        "outputId": "d7371538-0a8d-4576-c039-f13f7001722e"
      },
      "source": [
        "x_train.shape, y_train.shape"
      ],
      "execution_count": null,
      "outputs": [
        {
          "output_type": "execute_result",
          "data": {
            "text/plain": [
              "((7430, 4), (7430,))"
            ]
          },
          "metadata": {},
          "execution_count": 56
        }
      ]
    },
    {
      "cell_type": "code",
      "metadata": {
        "colab": {
          "base_uri": "https://localhost:8080/"
        },
        "id": "9kImspR8sFsA",
        "outputId": "9b988e9d-0e5b-4303-bf67-1bdfe8c800e9"
      },
      "source": [
        "x_test.shape, y_test.shape"
      ],
      "execution_count": null,
      "outputs": [
        {
          "output_type": "execute_result",
          "data": {
            "text/plain": [
              "((1858, 4), (1858,))"
            ]
          },
          "metadata": {},
          "execution_count": 57
        }
      ]
    },
    {
      "cell_type": "code",
      "metadata": {
        "id": "PEcK7bztsZAq"
      },
      "source": [
        "# 데이터셋 구성\n",
        "def windowed_dataset(series, window_size, batch_size, shuffle):\n",
        "    series = tf.expand_dims(series, axis=-1)\n",
        "    ds = tf.data.Dataset.from_tensor_slices(series)\n",
        "    ds = ds.window(window_size + 1, shift=1, drop_remainder=True)\n",
        "    ds = ds.flat_map(lambda w: w.batch(window_size + 1))\n",
        "    if shuffle:\n",
        "        ds = ds.shuffle(1000)\n",
        "    ds = ds.map(lambda w: (w[:-1], w[-1]))\n",
        "    return ds.batch(batch_size).prefetch(1)"
      ],
      "execution_count": null,
      "outputs": []
    },
    {
      "cell_type": "code",
      "metadata": {
        "id": "Av_VNEo-sgKk"
      },
      "source": [
        "# 하이퍼파라미터 정의\n",
        "# window_size: 얼마동안의 데이터에 기반하여 다음날 값을 예측할 것인지 정하는 파라미터\n",
        "WINDOW_SIZE=20\n",
        "BATCH_SIZE=32"
      ],
      "execution_count": null,
      "outputs": []
    },
    {
      "cell_type": "code",
      "metadata": {
        "id": "qOVVxtuCsl7T"
      },
      "source": [
        "# trian_data는 학습용 데이터셋, test_data는 검증용 데이터셋\n",
        "train_data = windowed_dataset(y_train, WINDOW_SIZE, BATCH_SIZE, True)\n",
        "test_data = windowed_dataset(y_test, WINDOW_SIZE, BATCH_SIZE, False)"
      ],
      "execution_count": null,
      "outputs": []
    },
    {
      "cell_type": "code",
      "metadata": {
        "colab": {
          "base_uri": "https://localhost:8080/"
        },
        "id": "YYI5-3TAsteA",
        "outputId": "16279174-e46c-4a31-86ce-2c4970e8daee"
      },
      "source": [
        "# 데이터셋 구성확인\n",
        "# X: (batch_size, window_size, feature)\n",
        "# Y: (batch_size, feature)\n",
        "for data in train_data.take(1):\n",
        "    print(f'데이터셋(X) 구성(batch_size, window_size, feature갯수): {data[0].shape}')\n",
        "    print(f'데이터셋(Y) 구성(batch_size, window_size, feature갯수): {data[1].shape}')"
      ],
      "execution_count": null,
      "outputs": [
        {
          "output_type": "stream",
          "text": [
            "데이터셋(X) 구성(batch_size, window_size, feature갯수): (32, 20, 1)\n",
            "데이터셋(Y) 구성(batch_size, window_size, feature갯수): (32, 1)\n"
          ],
          "name": "stdout"
        }
      ]
    },
    {
      "cell_type": "code",
      "metadata": {
        "colab": {
          "base_uri": "https://localhost:8080/"
        },
        "id": "aFu1L_IAupBd",
        "outputId": "f301cea5-24fc-4ad9-8592-4ea90582c66e"
      },
      "source": [
        "# LSTM 모델 1\n",
        "tf.model = tf.keras.Sequential(); \n",
        "tf.model.add(tf.keras.layers.LSTM(16, activation='tanh', input_shape=[WINDOW_SIZE, 1])) \n",
        "tf.model.add(tf.keras.layers.Dense(16, activation=\"relu\")) \n",
        "tf.model.add(tf.keras.layers.Dense(1)) \n",
        "tf.model.summary()"
      ],
      "execution_count": null,
      "outputs": [
        {
          "output_type": "stream",
          "text": [
            "Model: \"sequential_4\"\n",
            "_________________________________________________________________\n",
            "Layer (type)                 Output Shape              Param #   \n",
            "=================================================================\n",
            "lstm_4 (LSTM)                (None, 16)                1152      \n",
            "_________________________________________________________________\n",
            "dense_6 (Dense)              (None, 16)                272       \n",
            "_________________________________________________________________\n",
            "dense_7 (Dense)              (None, 1)                 17        \n",
            "=================================================================\n",
            "Total params: 1,441\n",
            "Trainable params: 1,441\n",
            "Non-trainable params: 0\n",
            "_________________________________________________________________\n"
          ],
          "name": "stdout"
        }
      ]
    },
    {
      "cell_type": "code",
      "metadata": {
        "colab": {
          "base_uri": "https://localhost:8080/"
        },
        "id": "LfoOCvJNhNOO",
        "outputId": "7c78e794-9fe6-47a3-c1b1-f81535274c73"
      },
      "source": [
        "# LSTM 모델 생성 2\n",
        "model = Sequential()\n",
        "model.add(LSTM(16, input_shape=[WINDOW_SIZE, 1], activation='tanh'))\n",
        "model.add(Dense(1))\n",
        "model.summary()"
      ],
      "execution_count": null,
      "outputs": [
        {
          "output_type": "stream",
          "text": [
            "Model: \"sequential_5\"\n",
            "_________________________________________________________________\n",
            "Layer (type)                 Output Shape              Param #   \n",
            "=================================================================\n",
            "lstm_5 (LSTM)                (None, 16)                1152      \n",
            "_________________________________________________________________\n",
            "dense_8 (Dense)              (None, 1)                 17        \n",
            "=================================================================\n",
            "Total params: 1,169\n",
            "Trainable params: 1,169\n",
            "Non-trainable params: 0\n",
            "_________________________________________________________________\n"
          ],
          "name": "stdout"
        }
      ]
    },
    {
      "cell_type": "code",
      "metadata": {
        "id": "jAaAUT62wTkQ"
      },
      "source": [
        "# 모델 학습\n",
        "model.compile(loss=Huber(), optimizer=Adam(0.0005), metrics=['mse'])"
      ],
      "execution_count": null,
      "outputs": []
    },
    {
      "cell_type": "code",
      "metadata": {
        "id": "gI62J0XKjTy6"
      },
      "source": [
        "## earlystopping은 10번 epoch동안 val_loss 개선이 없다면 학습을 멈춤\n",
        "earlystopping = EarlyStopping(monitor='val_loss', patience=10)\n",
        "\n",
        "## val_loss 기준 체크포인터 생성.\n",
        "filename = os.path.join('tmp', 'ckeckpointer.ckpt')\n",
        "checkpoint = ModelCheckpoint(filename, \n",
        "                             save_weights_only=True, \n",
        "                             save_best_only=True, \n",
        "                             monitor='val_loss', \n",
        "                             verbose=1)"
      ],
      "execution_count": null,
      "outputs": []
    },
    {
      "cell_type": "code",
      "metadata": {
        "colab": {
          "base_uri": "https://localhost:8080/"
        },
        "id": "p8E0K7_iy4XV",
        "outputId": "1163d9e4-d0e9-4497-d25e-8eeab83af4e9"
      },
      "source": [
        "##\n",
        "history = model.fit(train_data, \n",
        "                    validation_data=(test_data), \n",
        "                    epochs=50, \n",
        "                    callbacks=[checkpoint, earlystopping])"
      ],
      "execution_count": null,
      "outputs": [
        {
          "output_type": "stream",
          "text": [
            "Epoch 1/50\n",
            "232/232 [==============================] - 6s 18ms/step - loss: 0.0139 - mse: 0.0278 - val_loss: 9.5839e-05 - val_mse: 1.9168e-04\n",
            "\n",
            "Epoch 00001: val_loss improved from inf to 0.00010, saving model to tmp/ckeckpointer.ckpt\n",
            "Epoch 2/50\n",
            "232/232 [==============================] - 3s 14ms/step - loss: 7.0923e-04 - mse: 0.0014 - val_loss: 1.8588e-05 - val_mse: 3.7176e-05\n",
            "\n",
            "Epoch 00002: val_loss improved from 0.00010 to 0.00002, saving model to tmp/ckeckpointer.ckpt\n",
            "Epoch 3/50\n",
            "232/232 [==============================] - 3s 14ms/step - loss: 1.4128e-04 - mse: 2.8255e-04 - val_loss: 9.5892e-06 - val_mse: 1.9178e-05\n",
            "\n",
            "Epoch 00003: val_loss improved from 0.00002 to 0.00001, saving model to tmp/ckeckpointer.ckpt\n",
            "Epoch 4/50\n",
            "232/232 [==============================] - 3s 14ms/step - loss: 1.1422e-04 - mse: 2.2845e-04 - val_loss: 6.8467e-06 - val_mse: 1.3693e-05\n",
            "\n",
            "Epoch 00004: val_loss improved from 0.00001 to 0.00001, saving model to tmp/ckeckpointer.ckpt\n",
            "Epoch 5/50\n",
            "232/232 [==============================] - 3s 14ms/step - loss: 1.0082e-04 - mse: 2.0164e-04 - val_loss: 4.3787e-06 - val_mse: 8.7574e-06\n",
            "\n",
            "Epoch 00005: val_loss improved from 0.00001 to 0.00000, saving model to tmp/ckeckpointer.ckpt\n",
            "Epoch 6/50\n",
            "232/232 [==============================] - 4s 15ms/step - loss: 9.8430e-05 - mse: 1.9686e-04 - val_loss: 3.3918e-06 - val_mse: 6.7836e-06\n",
            "\n",
            "Epoch 00006: val_loss improved from 0.00000 to 0.00000, saving model to tmp/ckeckpointer.ckpt\n",
            "Epoch 7/50\n",
            "232/232 [==============================] - 4s 16ms/step - loss: 9.5612e-05 - mse: 1.9122e-04 - val_loss: 5.3775e-06 - val_mse: 1.0755e-05\n",
            "\n",
            "Epoch 00007: val_loss did not improve from 0.00000\n",
            "Epoch 8/50\n",
            "232/232 [==============================] - 3s 14ms/step - loss: 9.5249e-05 - mse: 1.9050e-04 - val_loss: 3.5366e-06 - val_mse: 7.0732e-06\n",
            "\n",
            "Epoch 00008: val_loss did not improve from 0.00000\n",
            "Epoch 9/50\n",
            "232/232 [==============================] - 3s 14ms/step - loss: 9.2760e-05 - mse: 1.8552e-04 - val_loss: 3.8632e-06 - val_mse: 7.7264e-06\n",
            "\n",
            "Epoch 00009: val_loss did not improve from 0.00000\n",
            "Epoch 10/50\n",
            "232/232 [==============================] - 3s 15ms/step - loss: 8.6750e-05 - mse: 1.7350e-04 - val_loss: 2.5372e-06 - val_mse: 5.0745e-06\n",
            "\n",
            "Epoch 00010: val_loss improved from 0.00000 to 0.00000, saving model to tmp/ckeckpointer.ckpt\n",
            "Epoch 11/50\n",
            "232/232 [==============================] - 3s 14ms/step - loss: 8.7430e-05 - mse: 1.7486e-04 - val_loss: 3.5663e-06 - val_mse: 7.1326e-06\n",
            "\n",
            "Epoch 00011: val_loss did not improve from 0.00000\n",
            "Epoch 12/50\n",
            "232/232 [==============================] - 4s 16ms/step - loss: 8.1619e-05 - mse: 1.6324e-04 - val_loss: 2.3899e-06 - val_mse: 4.7798e-06\n",
            "\n",
            "Epoch 00012: val_loss improved from 0.00000 to 0.00000, saving model to tmp/ckeckpointer.ckpt\n",
            "Epoch 13/50\n",
            "232/232 [==============================] - 4s 16ms/step - loss: 8.0146e-05 - mse: 1.6029e-04 - val_loss: 1.1766e-06 - val_mse: 2.3533e-06\n",
            "\n",
            "Epoch 00013: val_loss improved from 0.00000 to 0.00000, saving model to tmp/ckeckpointer.ckpt\n",
            "Epoch 14/50\n",
            "232/232 [==============================] - 4s 15ms/step - loss: 7.6413e-05 - mse: 1.5283e-04 - val_loss: 1.3069e-06 - val_mse: 2.6139e-06\n",
            "\n",
            "Epoch 00014: val_loss did not improve from 0.00000\n",
            "Epoch 15/50\n",
            "232/232 [==============================] - 4s 15ms/step - loss: 7.3560e-05 - mse: 1.4712e-04 - val_loss: 1.2224e-06 - val_mse: 2.4448e-06\n",
            "\n",
            "Epoch 00015: val_loss did not improve from 0.00000\n",
            "Epoch 16/50\n",
            "232/232 [==============================] - 4s 16ms/step - loss: 7.0871e-05 - mse: 1.4174e-04 - val_loss: 1.2368e-06 - val_mse: 2.4736e-06\n",
            "\n",
            "Epoch 00016: val_loss did not improve from 0.00000\n",
            "Epoch 17/50\n",
            "232/232 [==============================] - 4s 16ms/step - loss: 6.9076e-05 - mse: 1.3815e-04 - val_loss: 6.3572e-07 - val_mse: 1.2714e-06\n",
            "\n",
            "Epoch 00017: val_loss improved from 0.00000 to 0.00000, saving model to tmp/ckeckpointer.ckpt\n",
            "Epoch 18/50\n",
            "232/232 [==============================] - 3s 14ms/step - loss: 6.7409e-05 - mse: 1.3482e-04 - val_loss: 8.6494e-07 - val_mse: 1.7299e-06\n",
            "\n",
            "Epoch 00018: val_loss did not improve from 0.00000\n",
            "Epoch 19/50\n",
            "232/232 [==============================] - 4s 15ms/step - loss: 6.5033e-05 - mse: 1.3007e-04 - val_loss: 5.7539e-07 - val_mse: 1.1508e-06\n",
            "\n",
            "Epoch 00019: val_loss improved from 0.00000 to 0.00000, saving model to tmp/ckeckpointer.ckpt\n",
            "Epoch 20/50\n",
            "232/232 [==============================] - 3s 14ms/step - loss: 6.7325e-05 - mse: 1.3465e-04 - val_loss: 4.0289e-07 - val_mse: 8.0577e-07\n",
            "\n",
            "Epoch 00020: val_loss improved from 0.00000 to 0.00000, saving model to tmp/ckeckpointer.ckpt\n",
            "Epoch 21/50\n",
            "232/232 [==============================] - 4s 16ms/step - loss: 6.1242e-05 - mse: 1.2248e-04 - val_loss: 9.0304e-07 - val_mse: 1.8061e-06\n",
            "\n",
            "Epoch 00021: val_loss did not improve from 0.00000\n",
            "Epoch 22/50\n",
            "232/232 [==============================] - 4s 15ms/step - loss: 5.9200e-05 - mse: 1.1840e-04 - val_loss: 3.4748e-07 - val_mse: 6.9496e-07\n",
            "\n",
            "Epoch 00022: val_loss improved from 0.00000 to 0.00000, saving model to tmp/ckeckpointer.ckpt\n",
            "Epoch 23/50\n",
            "232/232 [==============================] - 4s 15ms/step - loss: 5.7377e-05 - mse: 1.1475e-04 - val_loss: 2.3301e-07 - val_mse: 4.6602e-07\n",
            "\n",
            "Epoch 00023: val_loss improved from 0.00000 to 0.00000, saving model to tmp/ckeckpointer.ckpt\n",
            "Epoch 24/50\n",
            "232/232 [==============================] - 4s 15ms/step - loss: 5.4582e-05 - mse: 1.0916e-04 - val_loss: 8.2737e-07 - val_mse: 1.6547e-06\n",
            "\n",
            "Epoch 00024: val_loss did not improve from 0.00000\n",
            "Epoch 25/50\n",
            "232/232 [==============================] - 4s 15ms/step - loss: 5.3287e-05 - mse: 1.0657e-04 - val_loss: 1.0296e-07 - val_mse: 2.0592e-07\n",
            "\n",
            "Epoch 00025: val_loss improved from 0.00000 to 0.00000, saving model to tmp/ckeckpointer.ckpt\n",
            "Epoch 26/50\n",
            "232/232 [==============================] - 4s 17ms/step - loss: 5.2430e-05 - mse: 1.0486e-04 - val_loss: 2.3453e-07 - val_mse: 4.6905e-07\n",
            "\n",
            "Epoch 00026: val_loss did not improve from 0.00000\n",
            "Epoch 27/50\n",
            "232/232 [==============================] - 4s 16ms/step - loss: 5.0270e-05 - mse: 1.0054e-04 - val_loss: 7.2007e-08 - val_mse: 1.4401e-07\n",
            "\n",
            "Epoch 00027: val_loss improved from 0.00000 to 0.00000, saving model to tmp/ckeckpointer.ckpt\n",
            "Epoch 28/50\n",
            "232/232 [==============================] - 4s 16ms/step - loss: 4.8881e-05 - mse: 9.7763e-05 - val_loss: 9.1741e-08 - val_mse: 1.8348e-07\n",
            "\n",
            "Epoch 00028: val_loss did not improve from 0.00000\n",
            "Epoch 29/50\n",
            "232/232 [==============================] - 4s 16ms/step - loss: 4.7535e-05 - mse: 9.5069e-05 - val_loss: 4.3924e-07 - val_mse: 8.7848e-07\n",
            "\n",
            "Epoch 00029: val_loss did not improve from 0.00000\n",
            "Epoch 30/50\n",
            "232/232 [==============================] - 3s 14ms/step - loss: 4.5516e-05 - mse: 9.1031e-05 - val_loss: 7.8839e-08 - val_mse: 1.5768e-07\n",
            "\n",
            "Epoch 00030: val_loss did not improve from 0.00000\n",
            "Epoch 31/50\n",
            "232/232 [==============================] - 4s 15ms/step - loss: 4.7693e-05 - mse: 9.5386e-05 - val_loss: 1.1889e-07 - val_mse: 2.3779e-07\n",
            "\n",
            "Epoch 00031: val_loss did not improve from 0.00000\n",
            "Epoch 32/50\n",
            "232/232 [==============================] - 3s 14ms/step - loss: 4.3922e-05 - mse: 8.7843e-05 - val_loss: 1.6625e-07 - val_mse: 3.3250e-07\n",
            "\n",
            "Epoch 00032: val_loss did not improve from 0.00000\n",
            "Epoch 33/50\n",
            "232/232 [==============================] - 4s 15ms/step - loss: 4.1538e-05 - mse: 8.3075e-05 - val_loss: 3.1796e-07 - val_mse: 6.3592e-07\n",
            "\n",
            "Epoch 00033: val_loss did not improve from 0.00000\n",
            "Epoch 34/50\n",
            "232/232 [==============================] - 3s 14ms/step - loss: 4.3250e-05 - mse: 8.6500e-05 - val_loss: 5.1592e-08 - val_mse: 1.0318e-07\n",
            "\n",
            "Epoch 00034: val_loss improved from 0.00000 to 0.00000, saving model to tmp/ckeckpointer.ckpt\n",
            "Epoch 35/50\n",
            "232/232 [==============================] - 3s 14ms/step - loss: 4.0152e-05 - mse: 8.0305e-05 - val_loss: 1.1940e-07 - val_mse: 2.3880e-07\n",
            "\n",
            "Epoch 00035: val_loss did not improve from 0.00000\n",
            "Epoch 36/50\n",
            "232/232 [==============================] - 3s 14ms/step - loss: 4.0421e-05 - mse: 8.0841e-05 - val_loss: 7.9530e-08 - val_mse: 1.5906e-07\n",
            "\n",
            "Epoch 00036: val_loss did not improve from 0.00000\n",
            "Epoch 37/50\n",
            "232/232 [==============================] - 3s 14ms/step - loss: 3.9436e-05 - mse: 7.8873e-05 - val_loss: 3.5428e-08 - val_mse: 7.0856e-08\n",
            "\n",
            "Epoch 00037: val_loss improved from 0.00000 to 0.00000, saving model to tmp/ckeckpointer.ckpt\n",
            "Epoch 38/50\n",
            "232/232 [==============================] - 4s 15ms/step - loss: 3.8327e-05 - mse: 7.6654e-05 - val_loss: 3.8768e-08 - val_mse: 7.7536e-08\n",
            "\n",
            "Epoch 00038: val_loss did not improve from 0.00000\n",
            "Epoch 39/50\n",
            "232/232 [==============================] - 3s 14ms/step - loss: 4.3342e-05 - mse: 8.6684e-05 - val_loss: 2.0559e-07 - val_mse: 4.1117e-07\n",
            "\n",
            "Epoch 00039: val_loss did not improve from 0.00000\n",
            "Epoch 40/50\n",
            "232/232 [==============================] - 3s 14ms/step - loss: 3.5988e-05 - mse: 7.1977e-05 - val_loss: 3.4179e-08 - val_mse: 6.8359e-08\n",
            "\n",
            "Epoch 00040: val_loss improved from 0.00000 to 0.00000, saving model to tmp/ckeckpointer.ckpt\n",
            "Epoch 41/50\n",
            "232/232 [==============================] - 3s 14ms/step - loss: 3.5992e-05 - mse: 7.1984e-05 - val_loss: 2.0000e-07 - val_mse: 3.9999e-07\n",
            "\n",
            "Epoch 00041: val_loss did not improve from 0.00000\n",
            "Epoch 42/50\n",
            "232/232 [==============================] - 3s 14ms/step - loss: 3.5969e-05 - mse: 7.1939e-05 - val_loss: 1.3053e-07 - val_mse: 2.6105e-07\n",
            "\n",
            "Epoch 00042: val_loss did not improve from 0.00000\n",
            "Epoch 43/50\n",
            "232/232 [==============================] - 4s 15ms/step - loss: 3.5935e-05 - mse: 7.1871e-05 - val_loss: 7.5084e-08 - val_mse: 1.5017e-07\n",
            "\n",
            "Epoch 00043: val_loss did not improve from 0.00000\n",
            "Epoch 44/50\n",
            "232/232 [==============================] - 3s 14ms/step - loss: 3.4674e-05 - mse: 6.9349e-05 - val_loss: 3.1115e-08 - val_mse: 6.2229e-08\n",
            "\n",
            "Epoch 00044: val_loss improved from 0.00000 to 0.00000, saving model to tmp/ckeckpointer.ckpt\n",
            "Epoch 45/50\n",
            "232/232 [==============================] - 3s 14ms/step - loss: 3.6945e-05 - mse: 7.3890e-05 - val_loss: 2.8838e-08 - val_mse: 5.7675e-08\n",
            "\n",
            "Epoch 00045: val_loss improved from 0.00000 to 0.00000, saving model to tmp/ckeckpointer.ckpt\n",
            "Epoch 46/50\n",
            "232/232 [==============================] - 3s 14ms/step - loss: 3.3837e-05 - mse: 6.7674e-05 - val_loss: 8.1824e-07 - val_mse: 1.6365e-06\n",
            "\n",
            "Epoch 00046: val_loss did not improve from 0.00000\n",
            "Epoch 47/50\n",
            "232/232 [==============================] - 3s 14ms/step - loss: 3.2155e-05 - mse: 6.4309e-05 - val_loss: 4.9263e-08 - val_mse: 9.8525e-08\n",
            "\n",
            "Epoch 00047: val_loss did not improve from 0.00000\n",
            "Epoch 48/50\n",
            "232/232 [==============================] - 3s 15ms/step - loss: 3.5010e-05 - mse: 7.0020e-05 - val_loss: 3.8247e-08 - val_mse: 7.6495e-08\n",
            "\n",
            "Epoch 00048: val_loss did not improve from 0.00000\n",
            "Epoch 49/50\n",
            "232/232 [==============================] - 3s 14ms/step - loss: 3.1487e-05 - mse: 6.2974e-05 - val_loss: 8.3266e-08 - val_mse: 1.6653e-07\n",
            "\n",
            "Epoch 00049: val_loss did not improve from 0.00000\n",
            "Epoch 50/50\n",
            "232/232 [==============================] - 4s 15ms/step - loss: 3.1799e-05 - mse: 6.3598e-05 - val_loss: 7.1357e-08 - val_mse: 1.4271e-07\n",
            "\n",
            "Epoch 00050: val_loss did not improve from 0.00000\n"
          ],
          "name": "stdout"
        }
      ]
    },
    {
      "cell_type": "code",
      "metadata": {
        "colab": {
          "base_uri": "https://localhost:8080/"
        },
        "id": "I86kCnfWz0NG",
        "outputId": "c5124a9f-0828-4f7b-9e66-bf5bd21b28ab"
      },
      "source": [
        "# 체크포인터 로드\n",
        "model.load_weights(filename)"
      ],
      "execution_count": null,
      "outputs": [
        {
          "output_type": "execute_result",
          "data": {
            "text/plain": [
              "<tensorflow.python.training.tracking.util.CheckpointLoadStatus at 0x7f28647394d0>"
            ]
          },
          "metadata": {},
          "execution_count": 85
        }
      ]
    },
    {
      "cell_type": "code",
      "metadata": {
        "id": "jYFCgQHOjdZc"
      },
      "source": [
        "# 학습모델로 주가 예측\n",
        "pred = model.predict(test_data)"
      ],
      "execution_count": null,
      "outputs": []
    },
    {
      "cell_type": "code",
      "metadata": {
        "colab": {
          "base_uri": "https://localhost:8080/",
          "height": 537
        },
        "id": "9QyQE74-k1Vf",
        "outputId": "c42b2947-f7a1-49e9-9aa2-7897a4d23c4d"
      },
      "source": [
        "# 실제 및 예측 데이터 시각화\n",
        "# y_test 데이터에 [20:]슬라이싱 이유: 20일치의 데이터로 21일치를 예측해야 하므로\n",
        "# test_data로 예측할 때, 앞의 20일은 예측하지 않음\n",
        "plt.figure(figsize=(12, 9))\n",
        "plt.plot(np.asarray(y_test)[20:], label='actual')\n",
        "plt.plot(pred, label='prediction')\n",
        "plt.legend()\n",
        "plt.show()"
      ],
      "execution_count": null,
      "outputs": [
        {
          "output_type": "display_data",
          "data": {
            "image/png": "[encoded data removed]",
            "text/plain": [
              "<Figure size 864x648 with 1 Axes>"
            ]
          },
          "metadata": {
            "needs_background": "light"
          }
        }
      ]
    },
    {
      "cell_type": "code",
      "metadata": {
        "colab": {
          "background_save": true
        },
        "id": "cURnwTP6mjke"
      },
      "source": [
        ""
      ],
      "execution_count": null,
      "outputs": []
    }
  ]
}